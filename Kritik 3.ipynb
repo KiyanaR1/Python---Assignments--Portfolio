{
 "cells": [
  {
   "cell_type": "code",
   "execution_count": 5,
   "id": "c456f97d-9e22-4c80-85d4-e118d574fadf",
   "metadata": {},
   "outputs": [
    {
     "name": "stdout",
     "output_type": "stream",
     "text": [
      "The value of x1 is:\n",
      "0.7853881633974483\n",
      "The value of x2 is:\n",
      "0.7854081633974482\n"
     ]
    }
   ],
   "source": [
    "import math\n",
    "def f(x):\n",
    "    return math.sin(x)\n",
    "\n",
    "c=math.pi/4\n",
    "E=0.05\n",
    "n=100\n",
    "x1=c\n",
    "x2=c\n",
    "delx=10**(-8)\n",
    "d=0.00001\n",
    "\n",
    "def fprime(x):\n",
    "    return(f(x+delx) -f(x-delx))/(2*delx)\n",
    "\n",
    "def L(x):\n",
    "    return f(c) +fprime(c)*(x-c)\n",
    "\n",
    "for i in range(n):\n",
    "    x1-=d\n",
    "    if abs(f(x1)-L(x1)) <= E:\n",
    "        break\n",
    "if abs(f(x1)-L(x1)) <=E:\n",
    "    print(\"The value of x1 is:\")\n",
    "    print(x1)\n",
    "else:\n",
    "    print(\"No such x1 can be found\")\n",
    "\n",
    "for i in range(n):\n",
    "    x2+=d\n",
    "    if abs(f(x2)-L(x2)) <=E:\n",
    "        break\n",
    "if abs(f(x2)-L(x2))<=E:\n",
    "        print(\"The value of x2 is:\")\n",
    "        print(x2)\n",
    "else:\n",
    "    print(\"No such x2 can be found\")"
   ]
  },
  {
   "cell_type": "code",
   "execution_count": null,
   "id": "54d38920-c4b5-4094-a2fe-c949b8d31eb6",
   "metadata": {},
   "outputs": [],
   "source": []
  }
 ],
 "metadata": {
  "kernelspec": {
   "display_name": "Python 3 (ipykernel)",
   "language": "python",
   "name": "python3"
  },
  "language_info": {
   "codemirror_mode": {
    "name": "ipython",
    "version": 3
   },
   "file_extension": ".py",
   "mimetype": "text/x-python",
   "name": "python",
   "nbconvert_exporter": "python",
   "pygments_lexer": "ipython3",
   "version": "3.11.4"
  }
 },
 "nbformat": 4,
 "nbformat_minor": 5
}
