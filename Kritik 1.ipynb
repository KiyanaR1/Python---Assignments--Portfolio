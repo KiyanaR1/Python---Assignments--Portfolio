{
 "cells": [
  {
   "cell_type": "code",
   "execution_count": null,
   "id": "9895b183-ef9c-46a0-9d75-407bf014e7c6",
   "metadata": {},
   "outputs": [],
   "source": [
    "def approx(): # defining the function\n",
    "    x = float(input(\"Give a value of x:\"))\n",
    "    a=0 ## the values of a and n are initialized\n",
    "    n=0\n",
    "    if 0<=x<=1:\n",
    "        \n",
    "        error_bound = (x**(2*n+1)) / (2*n + 1)\n",
    "        while error_bound > 0.0001: ## using a loop, an n value that gives an error bound less than 0.0001 was found\n",
    "            n+=1\n",
    "            error_bound = (x**(2*n+1)) / (2*n + 1)\n",
    "            \n",
    "        for i in range(n-1):\n",
    "            a+=((-1)**i * x**(2*i+1))/(2*i+1) # a+ allows the terms to be added up\n",
    "\n",
    "        nn= 2*n+1 ## nn refers to the degree of the polynomial\n",
    "        return (a, nn, error_bound) ## this outputs the approximation, the degree of the polynomial and the upper bound on the error\n",
    "    \n",
    "    else:\n",
    "        return \"error\""
   ]
  },
  {
   "cell_type": "code",
   "execution_count": 21,
   "id": "c55d579f-3be4-4395-9e24-6a562f27621b",
   "metadata": {},
   "outputs": [
    {
     "data": {
      "text/plain": [
       "(0.24479166666666666, 7, 8.719308035714285e-06)"
      ]
     },
     "execution_count": 21,
     "metadata": {},
     "output_type": "execute_result"
    }
   ],
   "source": [
    "approx() ## the function is called"
   ]
  }
 ],
 "metadata": {
  "kernelspec": {
   "display_name": "Python 3 (ipykernel)",
   "language": "python",
   "name": "python3"
  },
  "language_info": {
   "codemirror_mode": {
    "name": "ipython",
    "version": 3
   },
   "file_extension": ".py",
   "mimetype": "text/x-python",
   "name": "python",
   "nbconvert_exporter": "python",
   "pygments_lexer": "ipython3",
   "version": "3.11.4"
  }
 },
 "nbformat": 4,
 "nbformat_minor": 5
}
