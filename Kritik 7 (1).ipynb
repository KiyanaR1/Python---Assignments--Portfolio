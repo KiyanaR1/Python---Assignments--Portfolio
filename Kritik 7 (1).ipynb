{
 "cells": [
  {
   "cell_type": "code",
   "execution_count": 44,
   "id": "2973a827-3b9f-4420-b72e-eb17a867eec3",
   "metadata": {},
   "outputs": [],
   "source": [
    "#importing needing library\n",
    "import numpy as np\n",
    "from scipy.special import gamma\n",
    "\n",
    "\n",
    "## creating a function for the density function\n",
    "def t_distribution_pdf(x, nu):\n",
    "    coeff = gamma((nu + 1) / 2) / (np.sqrt(nu * np.pi) * gamma(nu / 2))\n",
    "    density = coeff * (1 + x**2 / nu) ** (-0.5 * (nu + 1))\n",
    "    return density"
   ]
  },
  {
   "cell_type": "code",
   "execution_count": 68,
   "id": "748c2bbb-1b75-480c-b4c0-034243224fd6",
   "metadata": {},
   "outputs": [
    {
     "name": "stdout",
     "output_type": "stream",
     "text": [
      "Mean: 82.382\n",
      "standard deviation: 9.670372071435516\n",
      "t0: 7.633625620057643\n"
     ]
    }
   ],
   "source": [
    "\n",
    "## defining variables\n",
    "list= [92.64,79.00,84.79,97.41,93.68,65.23,84.50,73.49,73.97,79.11]\n",
    "u0_value = 75\n",
    "\n",
    "def calculate_mean_and_stddev(list):\n",
    "    \n",
    "# Calculate mean\n",
    "    mean_value = sum(list) / len(list)\n",
    "\n",
    "    # Calculate standard deviation\n",
    "    variance = sum((x - mean_value) ** 2 for x in list) / len(list)\n",
    "    stddev_value = variance ** 0.5\n",
    "    \n",
    "    print(\"Mean:\", mean_value)\n",
    "    print(\"standard deviation:\", stddev_value)\n",
    "    \n",
    "    return mean_value, stddev_value\n",
    "\n",
    "\n",
    "# Call the function and get the results\n",
    "mean_value, stddev_value = calculate_mean_and_stddev(list)\n",
    "\n",
    "def calculate_t0(u0, mean, stddev, data):\n",
    "    t0 = (mean - u0) / (stddev / len(data))\n",
    "    print(\"t0:\", t0)\n",
    "\n",
    "# Call the function with the arguments\n",
    "calculate_t0(u0_value, mean_value, stddev_value, list)\n"
   ]
  },
  {
   "cell_type": "code",
   "execution_count": 42,
   "id": "bd24e33e-9ae8-4f2e-9a8d-f571d922ca72",
   "metadata": {},
   "outputs": [
    {
     "name": "stdout",
     "output_type": "stream",
     "text": [
      "T-star: 2.2522252225222523\n"
     ]
    }
   ],
   "source": [
    "def find_t_star(prob, nu, x_start=0, x_end=20, num_points=10000): ### function to find f_star\n",
    "\n",
    "    # Define the x values\n",
    "    x = np.linspace(x_start, x_end, num_points)\n",
    "    # Apply the density function to the x values\n",
    "    y = t_distribution_pdf(x, nu)\n",
    "    # This next line is the integration (np.cumsum caluclates the calculates the cumulative sum of the probability values y)\n",
    "    cdf = np.cumsum(y) * (x[1] - x[0])\n",
    "    \n",
    "    # Find the t-value where the cumulative probability reaches half of the required probability\n",
    "    \n",
    "    target_half_prob = prob / 2\n",
    "    index = np.where(cdf >= target_half_prob)[0][0]\n",
    "    \n",
    "    return x[index]\n",
    "\n",
    "t_star = find_t_star(0.95, (len(list) -1) )\n",
    "print(f\"T-star: {t_star}\")\n"
   ]
  },
  {
   "cell_type": "code",
   "execution_count": 43,
   "id": "0644800d-0d3a-4fa4-a8ee-036989790d58",
   "metadata": {},
   "outputs": [
    {
     "name": "stdout",
     "output_type": "stream",
     "text": [
      "False\n"
     ]
    }
   ],
   "source": [
    "def true_or_false(t_star, t0):\n",
    "    return -t_star <= t0 <= t_star\n",
    "\n",
    "# Check if t_0 is in the range [-t_star, t_star]\n",
    "result = true_or_false(t_star_value, t_0_value)\n",
    "\n",
    "# Print the result\n",
    "print(result)"
   ]
  },
  {
   "cell_type": "code",
   "execution_count": null,
   "id": "05a94c0a-b8aa-43ab-aa68-283b352f2ef0",
   "metadata": {},
   "outputs": [],
   "source": [
    "#### u is not 75 and the t0 was no benificial"
   ]
  }
 ],
 "metadata": {
  "kernelspec": {
   "display_name": "Python 3 (ipykernel)",
   "language": "python",
   "name": "python3"
  },
  "language_info": {
   "codemirror_mode": {
    "name": "ipython",
    "version": 3
   },
   "file_extension": ".py",
   "mimetype": "text/x-python",
   "name": "python",
   "nbconvert_exporter": "python",
   "pygments_lexer": "ipython3",
   "version": "3.11.4"
  }
 },
 "nbformat": 4,
 "nbformat_minor": 5
}
