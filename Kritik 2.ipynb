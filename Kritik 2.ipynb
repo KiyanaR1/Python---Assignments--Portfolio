{
 "cells": [
  {
   "cell_type": "code",
   "execution_count": 24,
   "id": "a206b46a-ab74-418f-9a1d-fd75dd55df42",
   "metadata": {},
   "outputs": [],
   "source": [
    "import math\n",
    "def roots (f,a,b):\n",
    "    g = lambda x: eval(f) ### transforms the string input into a function of x\n",
    "    while abs(a-b) > 1*10**-10: ### stops it from running infinetly\n",
    "        try:                 #### handle the error produced by when g(a) or g(b) are underfined (i.e. ln(0))\n",
    "            if g(a) == 0:\n",
    "                return a\n",
    "        except:\n",
    "            a += 1*10**-10\n",
    "\n",
    "        try:\n",
    "            if g(b) == 0:\n",
    "                return round(b,10)\n",
    "        except:\n",
    "            b -= 1*10**-10\n",
    "        \n",
    "        if g(a)* g(b)> 0:\n",
    "            print(\"No root found in the given interval.\")\n",
    "            return None\n",
    "\n",
    "        c= (b+ a)/2\n",
    "        if g(c)*g(a) <= 0:\n",
    "            b=c\n",
    "        elif g(c)*g(b) < 0:\n",
    "            a=c\n",
    "    return round((a+b)/2, 10)\n"
   ]
  },
  {
   "cell_type": "code",
   "execution_count": 25,
   "id": "ee5cd561-f578-42cc-9fe4-74fb89e0014a",
   "metadata": {},
   "outputs": [
    {
     "name": "stdin",
     "output_type": "stream",
     "text": [
      "Give a value of a: 0\n",
      "Give a value of b: 1\n",
      "Give an equation in terms of  math.exp(x) + math.log(x)\n"
     ]
    },
    {
     "data": {
      "text/plain": [
       "0.2698741376"
      ]
     },
     "execution_count": 25,
     "metadata": {},
     "output_type": "execute_result"
    }
   ],
   "source": [
    "a = float(input(\"Give a value of a:\"))\n",
    "b = float(input(\"Give a value of b:\"))\n",
    "f= input(\"Give an equation in terms of \")\n",
    "roots(f,a,b)"
   ]
  },
  {
   "cell_type": "code",
   "execution_count": null,
   "id": "4dc850cc-a892-4411-8cfb-48be01fdf8c7",
   "metadata": {},
   "outputs": [],
   "source": []
  }
 ],
 "metadata": {
  "kernelspec": {
   "display_name": "Python 3 (ipykernel)",
   "language": "python",
   "name": "python3"
  },
  "language_info": {
   "codemirror_mode": {
    "name": "ipython",
    "version": 3
   },
   "file_extension": ".py",
   "mimetype": "text/x-python",
   "name": "python",
   "nbconvert_exporter": "python",
   "pygments_lexer": "ipython3",
   "version": "3.11.4"
  }
 },
 "nbformat": 4,
 "nbformat_minor": 5
}
